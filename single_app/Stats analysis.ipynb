{
 "cells": [
  {
   "cell_type": "code",
   "execution_count": 41,
   "metadata": {
    "collapsed": false
   },
   "outputs": [],
   "source": [
    "import pandas as pd\n",
    "import pstats\n",
    "import toolz"
   ]
  },
  {
   "cell_type": "code",
   "execution_count": 42,
   "metadata": {
    "collapsed": false
   },
   "outputs": [],
   "source": [
    "%matplotlib inline"
   ]
  },
  {
   "cell_type": "code",
   "execution_count": null,
   "metadata": {
    "collapsed": false
   },
   "outputs": [],
   "source": []
  },
  {
   "cell_type": "code",
   "execution_count": 43,
   "metadata": {
    "collapsed": false,
    "scrolled": true
   },
   "outputs": [],
   "source": [
    "def get_render_calls(stats_file):\n",
    "    stats = pstats.Stats(stats_file)\n",
    "    find_render = lambda k: k[2] == 'render'\n",
    "    render_calls = toolz.keyfilter(find_render, stats.stats)\n",
    "\n",
    "    return render_calls"
   ]
  },
  {
   "cell_type": "code",
   "execution_count": 44,
   "metadata": {
    "collapsed": false
   },
   "outputs": [],
   "source": [
    "key = ('/home/andrea/.virtualenvs/django-migration-analysis/lib/python3.5/site-packages/django/db/migrations/state.py', 559, 'render')\n",
    "tot_time = render_calls[key][3]"
   ]
  },
  {
   "cell_type": "code",
   "execution_count": 45,
   "metadata": {
    "collapsed": false
   },
   "outputs": [
    {
     "data": {
      "text/plain": [
       "5.163073"
      ]
     },
     "execution_count": 45,
     "metadata": {},
     "output_type": "execute_result"
    }
   ],
   "source": [
    "tot_time"
   ]
  },
  {
   "cell_type": "code",
   "execution_count": 46,
   "metadata": {
    "collapsed": false
   },
   "outputs": [
    {
     "data": {
      "text/plain": [
       "{('/home/andrea/.virtualenvs/django-migration-analysis/lib/python3.5/site-packages/django/db/migrations/state.py',\n",
       "  559,\n",
       "  'render'): (5555,\n",
       "  5555,\n",
       "  0.139562,\n",
       "  5.163073,\n",
       "  {('/home/andrea/.virtualenvs/django-migration-analysis/lib/python3.5/site-packages/django/db/migrations/state.py',\n",
       "    282,\n",
       "    'render_multiple'): (5555, 5555, 0.139562, 5.163073)})}"
      ]
     },
     "execution_count": 46,
     "metadata": {},
     "output_type": "execute_result"
    }
   ],
   "source": [
    "get_render_calls('profile.stats')"
   ]
  },
  {
   "cell_type": "code",
   "execution_count": 47,
   "metadata": {
    "collapsed": false
   },
   "outputs": [
    {
     "data": {
      "text/plain": [
       "{('/home/andrea/.virtualenvs/django-migration-analysis/lib/python3.5/site-packages/django/db/migrations/state.py',\n",
       "  559,\n",
       "  'render'): (5,\n",
       "  5,\n",
       "  0.00018199999999999998,\n",
       "  0.012974999999999999,\n",
       "  {('/home/andrea/.virtualenvs/django-migration-analysis/lib/python3.5/site-packages/django/db/migrations/state.py',\n",
       "    282,\n",
       "    'render_multiple'): (5, 5, 0.00018199999999999998, 0.012974999999999999)})}"
      ]
     },
     "execution_count": 47,
     "metadata": {},
     "output_type": "execute_result"
    }
   ],
   "source": [
    "get_render_calls('fake_migration.stats')"
   ]
  },
  {
   "cell_type": "code",
   "execution_count": null,
   "metadata": {
    "collapsed": true
   },
   "outputs": [],
   "source": []
  }
 ],
 "metadata": {
  "kernelspec": {
   "display_name": "Python 3",
   "language": "python",
   "name": "python3"
  },
  "language_info": {
   "codemirror_mode": {
    "name": "ipython",
    "version": 3
   },
   "file_extension": ".py",
   "mimetype": "text/x-python",
   "name": "python",
   "nbconvert_exporter": "python",
   "pygments_lexer": "ipython3",
   "version": "3.5.0+"
  }
 },
 "nbformat": 4,
 "nbformat_minor": 1
}
